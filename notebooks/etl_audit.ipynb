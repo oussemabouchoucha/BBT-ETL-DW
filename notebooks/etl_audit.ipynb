{
 "cells": [
  {
   "cell_type": "code",
   "execution_count": 1,
   "metadata": {},
   "outputs": [],
   "source": [
    "from pyspark.sql import SparkSession\n",
    "spark = SparkSession.builder \\\n",
    "    .appName(\"Audit Report Testing\") \\\n",
    "    .getOrCreate()\n"
   ]
  },
  {
   "cell_type": "code",
   "execution_count": 2,
   "metadata": {},
   "outputs": [],
   "source": [
    "data = [\n",
    "    (\"2024-01-01\", 1001, \"ProductA\", 500),\n",
    "    (\"2024-01-01\", 1002, \"ProductB\", None),\n",
    "    (\"2024-01-02\", 1003, \"ProductA\", 300),\n",
    "    (None, 1004, \"ProductC\", 200),\n",
    "    (\"2024-01-03\", 1005, \"ProductB\", 1500)\n",
    "]\n",
    "columns = [\"date\", \"transaction_id\", \"product\", \"amount\"]\n",
    "df = spark.createDataFrame(data, columns)\n"
   ]
  },
  {
   "cell_type": "code",
   "execution_count": 3,
   "metadata": {},
   "outputs": [
    {
     "ename": "TypeError",
     "evalue": "'Column' object is not callable",
     "output_type": "error",
     "traceback": [
      "\u001b[1;31m---------------------------------------------------------------------------\u001b[0m",
      "\u001b[1;31mTypeError\u001b[0m                                 Traceback (most recent call last)",
      "Cell \u001b[1;32mIn[3], line 37\u001b[0m\n\u001b[0;32m     34\u001b[0m     \u001b[38;5;28;01mreturn\u001b[39;00m audit_results\n\u001b[0;32m     36\u001b[0m \u001b[38;5;66;03m# Test the function on the sample data\u001b[39;00m\n\u001b[1;32m---> 37\u001b[0m audit_results \u001b[38;5;241m=\u001b[39m \u001b[43maudit_dataframe\u001b[49m\u001b[43m(\u001b[49m\u001b[43mdf\u001b[49m\u001b[43m,\u001b[49m\u001b[43m \u001b[49m\u001b[38;5;124;43m\"\u001b[39;49m\u001b[38;5;124;43msales\u001b[39;49m\u001b[38;5;124;43m\"\u001b[39;49m\u001b[43m)\u001b[49m\n",
      "Cell \u001b[1;32mIn[3], line 7\u001b[0m, in \u001b[0;36maudit_dataframe\u001b[1;34m(df, source_name)\u001b[0m\n\u001b[0;32m      4\u001b[0m audit_results \u001b[38;5;241m=\u001b[39m {}\n\u001b[0;32m      6\u001b[0m \u001b[38;5;66;03m# Check for missing values\u001b[39;00m\n\u001b[1;32m----> 7\u001b[0m missing_values \u001b[38;5;241m=\u001b[39m df\u001b[38;5;241m.\u001b[39mselect([col(c)\u001b[38;5;241m.\u001b[39misNull()\u001b[38;5;241m.\u001b[39msum()\u001b[38;5;241m.\u001b[39malias(c) \u001b[38;5;28;01mfor\u001b[39;00m c \u001b[38;5;129;01min\u001b[39;00m df\u001b[38;5;241m.\u001b[39mcolumns])\n\u001b[0;32m      8\u001b[0m missing_values \u001b[38;5;241m=\u001b[39m missing_values\u001b[38;5;241m.\u001b[39mcollect()\n\u001b[0;32m      9\u001b[0m missing \u001b[38;5;241m=\u001b[39m {row[\u001b[38;5;241m0\u001b[39m]: row[\u001b[38;5;241m1\u001b[39m] \u001b[38;5;28;01mfor\u001b[39;00m row \u001b[38;5;129;01min\u001b[39;00m missing_values[\u001b[38;5;241m0\u001b[39m]}  \u001b[38;5;66;03m# Convert to dictionary\u001b[39;00m\n",
      "Cell \u001b[1;32mIn[3], line 7\u001b[0m, in \u001b[0;36m<listcomp>\u001b[1;34m(.0)\u001b[0m\n\u001b[0;32m      4\u001b[0m audit_results \u001b[38;5;241m=\u001b[39m {}\n\u001b[0;32m      6\u001b[0m \u001b[38;5;66;03m# Check for missing values\u001b[39;00m\n\u001b[1;32m----> 7\u001b[0m missing_values \u001b[38;5;241m=\u001b[39m df\u001b[38;5;241m.\u001b[39mselect([\u001b[43mcol\u001b[49m\u001b[43m(\u001b[49m\u001b[43mc\u001b[49m\u001b[43m)\u001b[49m\u001b[38;5;241;43m.\u001b[39;49m\u001b[43misNull\u001b[49m\u001b[43m(\u001b[49m\u001b[43m)\u001b[49m\u001b[38;5;241;43m.\u001b[39;49m\u001b[43msum\u001b[49m\u001b[43m(\u001b[49m\u001b[43m)\u001b[49m\u001b[38;5;241m.\u001b[39malias(c) \u001b[38;5;28;01mfor\u001b[39;00m c \u001b[38;5;129;01min\u001b[39;00m df\u001b[38;5;241m.\u001b[39mcolumns])\n\u001b[0;32m      8\u001b[0m missing_values \u001b[38;5;241m=\u001b[39m missing_values\u001b[38;5;241m.\u001b[39mcollect()\n\u001b[0;32m      9\u001b[0m missing \u001b[38;5;241m=\u001b[39m {row[\u001b[38;5;241m0\u001b[39m]: row[\u001b[38;5;241m1\u001b[39m] \u001b[38;5;28;01mfor\u001b[39;00m row \u001b[38;5;129;01min\u001b[39;00m missing_values[\u001b[38;5;241m0\u001b[39m]}  \u001b[38;5;66;03m# Convert to dictionary\u001b[39;00m\n",
      "\u001b[1;31mTypeError\u001b[0m: 'Column' object is not callable"
     ]
    }
   ],
   "source": [
    "from pyspark.sql.functions import col\n",
    "\n",
    "def audit_dataframe(df, source_name):\n",
    "    audit_results = {}\n",
    "\n",
    "    # Check for missing values\n",
    "    missing_values = df.select([col(c).isNull().sum().alias(c) for c in df.columns])\n",
    "    missing_values = missing_values.collect()\n",
    "    missing = {row[0]: row[1] for row in missing_values[0]}  # Convert to dictionary\n",
    "    audit_results['missing_values'] = missing\n",
    "    print(f\"Missing values in {source_name}: {missing}\")\n",
    "\n",
    "    # Check for duplicates (assuming 'transaction_id' is the unique key)\n",
    "    duplicates = df.count() - df.dropDuplicates().count()\n",
    "    audit_results['duplicates'] = duplicates\n",
    "    print(f\"Duplicates in {source_name}: {duplicates}\")\n",
    "\n",
    "    # Check for data type inconsistencies\n",
    "    schema = {field.name: field.dataType.simpleString() for field in df.schema.fields}\n",
    "    audit_results['data_types'] = schema\n",
    "    print(f\"Data types in {source_name}: {schema}\")\n",
    "\n",
    "    # Check for outliers (numeric columns)\n",
    "    numeric_cols = [field.name for field in df.schema.fields if isinstance(field.dataType, (IntegerType, FloatType))]\n",
    "    outliers = {}\n",
    "    for col_name in numeric_cols:\n",
    "        summary = df.describe(col_name).collect()\n",
    "        min_value = float(summary[0][1])\n",
    "        max_value = float(summary[1][1])\n",
    "        outliers[col_name] = {\"min\": min_value, \"max\": max_value}\n",
    "    audit_results['outliers'] = outliers\n",
    "    print(f\"Outliers in {source_name}: {outliers}\")\n",
    "\n",
    "    return audit_results\n",
    "\n",
    "# Test the function on the sample data\n",
    "audit_results = audit_dataframe(df, \"sales\")\n"
   ]
  }
 ],
 "metadata": {
  "kernelspec": {
   "display_name": "Python 3",
   "language": "python",
   "name": "python3"
  },
  "language_info": {
   "codemirror_mode": {
    "name": "ipython",
    "version": 3
   },
   "file_extension": ".py",
   "mimetype": "text/x-python",
   "name": "python",
   "nbconvert_exporter": "python",
   "pygments_lexer": "ipython3",
   "version": "3.10.7"
  }
 },
 "nbformat": 4,
 "nbformat_minor": 2
}
