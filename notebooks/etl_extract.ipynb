{
 "cells": [
  {
   "cell_type": "markdown",
   "metadata": {},
   "source": [
    "# Data Ingestion\n",
    "This notebook demonstrates the process of ingesting raw data into the bronze layer using PySpark.\n"
   ]
  },
  {
   "cell_type": "code",
   "execution_count": 6,
   "metadata": {
    "collapsed": false
   },
   "outputs": [],
   "source": [
    "from pyspark.sql import SparkSession\n",
    "from datetime import datetime\n",
    "import os\n",
    "import logging\n",
    "\n",
    "# Initialize Spark session\n",
    "spark = SparkSession.builder \\\n",
    "    .appName(\"Data Ingestion\") \\\n",
    "    .getOrCreate()"
   ]
  },
  {
   "cell_type": "code",
   "execution_count": 11,
   "metadata": {
    "collapsed": false
   },
   "outputs": [
    {
     "name": "stdout",
     "output_type": "stream",
     "text": [
      "logs\\data_ingestion\\2024-11-04\n",
      "logs\\data_ingestion\\2024-11-04\\data_ingestion.log\n"
     ]
    }
   ],
   "source": [
    "# Define paths\n",
    "base_path = \"../data/raw/\"\n",
    "bronze_base_path = \"../output/bronze/\"\n",
    "date_str = datetime.now().strftime(\"%Y-%m-%d\")\n",
    "\n",
    "# Log path organized by date\n",
    "log_dir = os.path.join(\"logs\", \"data_ingestion\", date_str)\n",
    "log_path = os.path.join(log_dir, \"data_ingestion.log\")\n",
    "\n",
    "# Ensure the logs directory exists\n",
    "os.makedirs(log_dir, exist_ok=True)\n",
    "print(log_dir+\"\\n\"+ log_path)"
   ]
  },
  {
   "cell_type": "code",
   "execution_count": null,
   "metadata": {
    "collapsed": false
   },
   "outputs": [],
   "source": [
    "# Configure logging to write to the log file\n",
    "logging.basicConfig(filename=log_path, level=logging.INFO,\n",
    "                    format='%(asctime)s - %(levelname)s - %(message)s')\n",
    "\n",
    "def log_message(message, level=\"info\"):\n",
    "    \"\"\"Logs messages with the specified level.\"\"\"\n",
    "    if level == \"info\":\n",
    "        logging.info(message)\n",
    "    elif level == \"error\":\n",
    "        logging.error(message)\n",
    "    print(message)  "
   ]
  },
  {
   "cell_type": "code",
   "execution_count": 14,
   "metadata": {
    "collapsed": false
   },
   "outputs": [
    {
     "name": "stdout",
     "output_type": "stream",
     "text": [
      "['sales', 'customers', 'products', 'suppliers']\n"
     ]
    }
   ],
   "source": [
    "# Define sources\n",
    "sources = [\"sales\", \"customers\", \"products\", \"suppliers\"]\n",
    "print(sources)"
   ]
  },
  {
   "cell_type": "code",
   "execution_count": 15,
   "metadata": {
    "collapsed": false
   },
   "outputs": [
    {
     "name": "stdout",
     "output_type": "stream",
     "text": [
      "Starting ingestion for sales from ../data/raw/sales.csv to ../output/bronze/sales\\2024-11-04\n",
      "Successfully ingested sales data to ../output/bronze/sales\\2024-11-04\n",
      "Starting ingestion for customers from ../data/raw/customers.csv to ../output/bronze/customers\\2024-11-04\n",
      "Successfully ingested customers data to ../output/bronze/customers\\2024-11-04\n",
      "Starting ingestion for products from ../data/raw/products.csv to ../output/bronze/products\\2024-11-04\n",
      "Successfully ingested products data to ../output/bronze/products\\2024-11-04\n",
      "Starting ingestion for suppliers from ../data/raw/suppliers.csv to ../output/bronze/suppliers\\2024-11-04\n",
      "Successfully ingested suppliers data to ../output/bronze/suppliers\\2024-11-04\n"
     ]
    }
   ],
   "source": [
    "# Process each source file\n",
    "for source in sources:\n",
    "    try:\n",
    "        raw_path = os.path.join(base_path, f\"{source}.csv\")\n",
    "        bronze_path = os.path.join(bronze_base_path, source, date_str)\n",
    "\n",
    "        # Log start of the ingestion process for this source\n",
    "        log_message(f\"Starting ingestion for {source} from {raw_path} to {bronze_path}\")\n",
    "\n",
    "        # Read raw data\n",
    "        df = spark.read.csv(raw_path, header=True, inferSchema=True)\n",
    "        \n",
    "        # Ensure the bronze path exists\n",
    "        os.makedirs(bronze_path, exist_ok=True)\n",
    "        \n",
    "        # Write to Bronze layer in Parquet format, organized by date\n",
    "        df.write.mode(\"overwrite\").parquet(bronze_path)\n",
    "        \n",
    "        # Log successful ingestion\n",
    "        log_message(f\"Successfully ingested {source} data to {bronze_path}\")\n",
    "        \n",
    "    except Exception as e:\n",
    "        # Log any errors encountered during ingestion\n",
    "        log_message(f\"Error ingesting {source} data: {e}\", level=\"error\")"
   ]
  },
  {
   "cell_type": "code",
   "execution_count": 16,
   "metadata": {
    "collapsed": false
   },
   "outputs": [
    {
     "name": "stdout",
     "output_type": "stream",
     "text": [
      "Data ingestion process completed.\n"
     ]
    }
   ],
   "source": [
    "# Stop Spark session\n",
    "spark.stop()\n",
    "log_message(\"Data ingestion process completed.\")"
   ]
  }
 ],
 "metadata": {
  "kernelspec": {
   "display_name": "Python 3",
   "language": "python",
   "name": "python3"
  },
  "language_info": {
   "codemirror_mode": {
    "name": "ipython",
    "version": 3
   },
   "file_extension": ".py",
   "mimetype": "text/x-python",
   "name": "python",
   "nbconvert_exporter": "python",
   "pygments_lexer": "ipython3",
   "version": "3.10.7"
  }
 },
 "nbformat": 4,
 "nbformat_minor": 4
}
